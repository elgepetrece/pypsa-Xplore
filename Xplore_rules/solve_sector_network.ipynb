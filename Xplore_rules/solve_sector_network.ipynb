{
 "cells": [
  {
   "cell_type": "markdown",
   "metadata": {},
   "source": [
    "# Rule: **solve_sector_network**"
   ]
  },
  {
   "cell_type": "markdown",
   "metadata": {},
   "source": [
    "**Outputs**\n",
    "\n",
    "- results/networks/`base_s_{clusters}_{opts}_{sector_opts}_{horizon}.nc`"
   ]
  },
  {
   "cell_type": "code",
   "execution_count": null,
   "metadata": {},
   "outputs": [],
   "source": [
    "######################################## Parameters\n",
    "\n",
    "### Run\n",
    "name = ''\n",
    "prefix = ''\n",
    "\n",
    "### Network\n",
    "clusters = 5\n",
    "opts = ''\n",
    "sector_opts = ''\n",
    "horizon = '2030'"
   ]
  },
  {
   "cell_type": "code",
   "execution_count": null,
   "metadata": {},
   "outputs": [],
   "source": [
    "##### Import packages\n",
    "import pypsa\n",
    "import pandas as pd\n",
    "import cartopy.crs as ccrs\n",
    "import geopandas as gpd\n",
    "import matplotlib.pyplot as plt\n",
    "import matplotlib.colors as mcolors\n",
    "import yaml\n",
    "import os \n",
    "import sys\n",
    "import numpy as np\n",
    "\n",
    "\n",
    "##### Import local functions\n",
    "sys.path.append(os.path.abspath(os.path.join('..')))\n",
    "import functions as xp\n",
    "\n",
    "\n",
    "##### Read params.yaml\n",
    "with open('../params.yaml', 'r') as configfile:\n",
    "    params = yaml.safe_load(configfile)\n",
    "\n",
    "\n",
    "##### Ignore warnings\n",
    "import warnings\n",
    "warnings.filterwarnings('ignore', category=UserWarning)\n",
    "\n",
    "\n",
    "##### Region files\n",
    "file_regions_onshore = f'regions_onshore_base_s_{clusters}.geojson'\n",
    "file_regions_offshore = f'regions_offshore_base_s_{clusters}.geojson'\n",
    "path_regions = f'{params['rootpath']}/resources/{prefix}/{name}/'\n",
    "gdf_regions_onshore = gpd.read_file(path_regions+file_regions_onshore)\n",
    "gdf_regions_offshore = gpd.read_file(path_regions+file_regions_offshore)\n",
    "\n",
    "\n",
    "##### NUTS files (provided by the user, used here to display results at NUTS level. The files must contain at least the columns 'NUTS_ID' and 'geometry')\n",
    "file_NUTS2 = 'NUTS2_ES.geojson'\n",
    "file_NUTS3 = 'NUTS3_ES.geojson'\n",
    "path_NUTS = f'{params['rootpath']}/data_ES/nuts/'\n",
    "gdf_NUTS2 = gpd.read_file(path_NUTS+file_NUTS2)\n",
    "gdf_NUTS3 = gpd.read_file(path_NUTS+file_NUTS3)\n"
   ]
  },
  {
   "cell_type": "markdown",
   "metadata": {},
   "source": [
    "## `base_s_{clusters}_{opts}_{sector_opts}_{horizon}.nc`"
   ]
  },
  {
   "cell_type": "markdown",
   "metadata": {},
   "source": [
    "Load the network and show its components."
   ]
  },
  {
   "cell_type": "code",
   "execution_count": null,
   "metadata": {},
   "outputs": [],
   "source": [
    "file = f'base_s_{clusters}_{opts}_{sector_opts}_{horizon}.nc'\n",
    "path = f'{params['rootpath']}/results/{prefix}/{name}/networks/'\n",
    "\n",
    "n = pypsa.Network(path+file)\n",
    "\n",
    "n"
   ]
  },
  {
   "cell_type": "markdown",
   "metadata": {},
   "source": [
    "Plot the initial and optimal networks."
   ]
  },
  {
   "cell_type": "code",
   "execution_count": null,
   "metadata": {},
   "outputs": [],
   "source": [
    "#################### Parameters\n",
    "line_widths_0 = 1*n.lines.s_nom / 1e3\n",
    "link_widths_0 = 1*n.links.p_nom / 1e3\n",
    "\n",
    "line_widths_1 = 1*n.lines.s_nom_opt / 1e3\n",
    "link_widths_1 = 1*n.links.p_nom_opt / 1e3\n",
    "\n",
    "\n",
    "#################### Figure\n",
    "fig_size = [12,12]\n",
    "crs = ccrs.PlateCarree()\n",
    "\n",
    "fig, axes = plt.subplots(1, 2, figsize=fig_size, subplot_kw={'projection': crs})\n",
    "\n",
    "\n",
    "##### Initial network\n",
    "ax0 = axes[0]\n",
    "\n",
    "### Add network\n",
    "n.plot(ax=ax0, \n",
    "       line_widths=line_widths_0, \n",
    "       link_widths=link_widths_0, \n",
    "       bus_sizes=params['bus_sizes'], \n",
    "       bus_colors=params['bus_colors'], \n",
    "       boundaries=params['boundaries_offshore'])\n",
    "\n",
    "### Add regions_onshore\n",
    "xp.map_add_region(ax0, gdf_regions_onshore, params['map_add_region'])\n",
    "\n",
    "### Add regions_offshore\n",
    "xp.map_add_region(ax0, gdf_regions_offshore, params['map_add_region'], is_offshore=True)\n",
    "\n",
    "### Add map features\n",
    "xp.map_add_features(ax0, params['map_add_features'])\n",
    "\n",
    "\n",
    "\n",
    "##### Optimal network\n",
    "ax1 = axes[1]\n",
    "\n",
    "### Add network\n",
    "n.plot(ax=ax1, \n",
    "       line_widths=line_widths_1, \n",
    "       link_widths=link_widths_1, \n",
    "       bus_sizes=params['bus_sizes'], \n",
    "       bus_colors=params['bus_colors'], \n",
    "       boundaries=params['boundaries_offshore'])\n",
    "\n",
    "### Add regions_onshore\n",
    "xp.map_add_region(ax1, gdf_regions_onshore, params['map_add_region'])\n",
    "\n",
    "### Add regions_offshore\n",
    "xp.map_add_region(ax1, gdf_regions_offshore, params['map_add_region'], is_offshore=True)\n",
    "\n",
    "### Add map features\n",
    "xp.map_add_features(ax1, params['map_add_features'])"
   ]
  },
  {
   "cell_type": "markdown",
   "metadata": {},
   "source": [
    "Plot the increase in line capacities."
   ]
  },
  {
   "cell_type": "markdown",
   "metadata": {},
   "source": [
    "### Variable: `n.generators`"
   ]
  },
  {
   "cell_type": "markdown",
   "metadata": {},
   "source": [
    "Place `n.generators` in a dataFrame and show its content."
   ]
  },
  {
   "cell_type": "code",
   "execution_count": null,
   "metadata": {},
   "outputs": [],
   "source": [
    "gg = n.generators\n",
    "\n",
    "gg.head()"
   ]
  },
  {
   "cell_type": "markdown",
   "metadata": {},
   "source": [
    "#### Summary"
   ]
  },
  {
   "cell_type": "markdown",
   "metadata": {},
   "source": [
    "What is the aggregated capacity, initial and optimal, per carrier? "
   ]
  },
  {
   "cell_type": "code",
   "execution_count": null,
   "metadata": {},
   "outputs": [],
   "source": [
    "gg.groupby('carrier').agg(\n",
    "    Total_capacity=pd.NamedAgg(column='p_nom', aggfunc='sum'),\n",
    "    Optimal_capacity=pd.NamedAgg(column='p_nom_opt', aggfunc='sum'),\n",
    ")"
   ]
  },
  {
   "cell_type": "markdown",
   "metadata": {},
   "source": [
    "#### Maps"
   ]
  },
  {
   "cell_type": "markdown",
   "metadata": {},
   "source": [
    "Plot a map showing a particular feature of a generation carrier at each region.\n",
    "\n",
    "Then, show another map with the same information aggregated to a certain NUTS level (weighted with ovelap area)."
   ]
  },
  {
   "cell_type": "code",
   "execution_count": null,
   "metadata": {},
   "outputs": [],
   "source": [
    "#################### Parameters\n",
    "\n",
    "### Select carrier\n",
    "carrier = 'solar'\n",
    "\n",
    "### Select feature (uncomment one of the following):\n",
    "# feature = 'area' \n",
    "# feature = 'p_nom'\n",
    "# feature = 'p_nom_density'\n",
    "# feature = 'p_nom_max'\n",
    "# feature = 'p_nom_max_density'\n",
    "#feature = 'p_nom_max_ratio'\n",
    "feature = 'p_nom_opt'\n",
    "# feature = 'p_nom_opt_density'\n",
    "# feature = 'p_nom_opt_max_ratio'\n",
    "\n",
    "\n",
    "#################### Local params\n",
    "params_local = {}\n",
    "params_local['vmin'] = ''   # Leave empty for automatic value \n",
    "params_local['vmax'] = ''   # Leave empty for automatic value\n",
    "\n",
    "\n",
    "\n",
    "#################### Figure\n",
    "fig_size = [12,6]\n",
    "crs = ccrs.PlateCarree()\n",
    "\n",
    "fig, ax = plt.subplots(figsize=fig_size, subplot_kw={'projection': crs})\n",
    "\n",
    "\n",
    "### Define gdf_regions\n",
    "if 'off' in carrier:\n",
    "    gdf_regions = gdf_regions_offshore\n",
    "    is_offshore = True\n",
    "else:\n",
    "    gdf_regions = gdf_regions_onshore\n",
    "    is_offshore = False\n",
    "\n",
    "\n",
    "### Add map features\n",
    "xp.map_add_features(ax, params['map_add_features'])\n",
    "\n",
    "### Add network feature at regions\n",
    "xp.map_network_generators(carrier, n, feature, ax, gdf_regions, params['map_network_generators'], params_local)"
   ]
  },
  {
   "cell_type": "code",
   "execution_count": null,
   "metadata": {},
   "outputs": [],
   "source": [
    "#################### Parameters\n",
    "\n",
    "### Select NUTS level\n",
    "NUTS_level = 3\n",
    "\n",
    "\n",
    "\n",
    "#################### Local params\n",
    "params_local = {}\n",
    "params_local['vmin'] = ''   # Leave empty for automatic value \n",
    "params_local['vmax'] = ''   # Leave empty for automatic value\n",
    "\n",
    "\n",
    "\n",
    "if 'off' in carrier:\n",
    "    print('Aggregation at NUTS level for offshore is not possible')\n",
    "else:\n",
    "    #################### Figure\n",
    "    fig_size = [12,6]\n",
    "    crs = ccrs.PlateCarree()\n",
    "\n",
    "    fig, ax = plt.subplots(figsize=fig_size, subplot_kw={'projection': crs})\n",
    "\n",
    "\n",
    "    ### Define gdf_regions\n",
    "    gdf_regions = gdf_regions_onshore\n",
    "    is_offshore = False\n",
    "\n",
    "\n",
    "    ### Define NUTS file\n",
    "    if NUTS_level==2:\n",
    "        gdf_NUTS = gdf_NUTS2\n",
    "    if NUTS_level==3:\n",
    "        gdf_NUTS = gdf_NUTS3    \n",
    "\n",
    "\n",
    "    ### Add map features\n",
    "    xp.map_add_features(ax, params['map_add_features'])\n",
    "\n",
    "    ### Add network feature aggregated at NUTS regions\n",
    "    xp.map_NUTS_generators(carrier, n, f'{feature}_NUTS', ax, gdf_regions, gdf_NUTS, params['map_NUTS_generators'], params_local)\n"
   ]
  },
  {
   "cell_type": "markdown",
   "metadata": {},
   "source": [
    "#### Costs"
   ]
  },
  {
   "cell_type": "markdown",
   "metadata": {},
   "source": [
    "What is the capital cost of generators?"
   ]
  },
  {
   "cell_type": "code",
   "execution_count": null,
   "metadata": {},
   "outputs": [],
   "source": [
    "#################### Parameters\n",
    "\n",
    "### Select carriers\n",
    "carrier_list = ['onwind', 'solar', 'offwind-float']\n",
    "\n",
    "\n",
    "\n",
    "#################### Figure\n",
    "fig_size = [10,5]\n",
    "fig, ax = plt.subplots(1,1,figsize=fig_size)\n",
    "\n",
    "# Give a message with the carriers not considered\n",
    "carrier_all = gg['carrier'].unique().tolist()\n",
    "carrier_excluded = [carrier for carrier in carrier_all if carrier not in carrier_list]\n",
    "print(f'Carriers ommitted: {carrier_excluded}')\n",
    "\n",
    "# Define bins\n",
    "minimo = 0 # 0.95 * gg.loc[ gg['carrier'].isin(carrier_list), 'capital_cost'].min()\n",
    "maximo = 1.05 * gg.loc[ gg['carrier'].isin(carrier_list), 'capital_cost'].max()\n",
    "ancho = 1000\n",
    "\n",
    "bins = np.arange(minimo, maximo, 1000)\n",
    "\n",
    "# Define colors\n",
    "tech_colors = n.carriers['color']\n",
    "\n",
    "\n",
    "for carrier in carrier_list:\n",
    "\n",
    "    ##### Filter the carrier\n",
    "    df = gg[gg['carrier']==carrier]\n",
    "\n",
    "\n",
    "    ##### Only single cost for the carrier\n",
    "    if df['capital_cost'].round(2).nunique()==1:\n",
    "\n",
    "        valor = df['capital_cost'].unique()[0]\n",
    "\n",
    "        ax.axvline(x=valor, label=carrier, color = tech_colors[carrier])\n",
    "\n",
    "        print(f'Capital cost for {carrier} is: {valor:.2f} EUR/MW·year')\n",
    "\n",
    "    ##### Different costs for the carrier\n",
    "    else:\n",
    "        plt.hist(df['capital_cost'], bins=bins, \n",
    "                 edgecolor='none', color = tech_colors[carrier],\n",
    "                 label=carrier, alpha=1)\n",
    "        \n",
    "        valor = df['capital_cost'].mean()\n",
    "        print(f'Average capital cost for {carrier} is: {valor:.2f} EUR/MW·year')\n",
    "\n",
    "\n",
    "ax.set_title('capital cost')\n",
    "ax.set_xlabel('EUR/(MW·year)')\n",
    "ax.legend()\n",
    "ax.grid(True, linestyle='--', alpha=0.5)"
   ]
  },
  {
   "cell_type": "markdown",
   "metadata": {},
   "source": [
    "### Variable: `n.global_constraints`"
   ]
  },
  {
   "cell_type": "markdown",
   "metadata": {},
   "source": [
    "Place `n.global_constraints` in a dataFrame and show its content."
   ]
  },
  {
   "cell_type": "code",
   "execution_count": null,
   "metadata": {},
   "outputs": [],
   "source": [
    "gc = n.global_constraints\n",
    "\n",
    "gc"
   ]
  },
  {
   "cell_type": "markdown",
   "metadata": {},
   "source": [
    "### Variable: `n.lines`"
   ]
  },
  {
   "cell_type": "markdown",
   "metadata": {},
   "source": [
    "Place `n.lines` in a dataFrame and show its content."
   ]
  },
  {
   "cell_type": "code",
   "execution_count": null,
   "metadata": {},
   "outputs": [],
   "source": [
    "ln = n.lines\n",
    "\n",
    "ln.head()"
   ]
  },
  {
   "cell_type": "markdown",
   "metadata": {},
   "source": [
    "How is the distribution of line lengths?"
   ]
  },
  {
   "cell_type": "code",
   "execution_count": null,
   "metadata": {},
   "outputs": [],
   "source": [
    "#################### Parameters\n",
    "bins = 50\n",
    "\n",
    "\n",
    "\n",
    "#################### Figure\n",
    "fig_size = [10,4]\n",
    "fig, ax = plt.subplots(figsize=fig_size)\n",
    "\n",
    "\n",
    "ax.hist(ln['length'], bins=bins, edgecolor='black')\n",
    "\n",
    "ax.set_xlabel('km')\n",
    "ax.grid(True, linestyle='--', alpha=0.5)"
   ]
  },
  {
   "cell_type": "markdown",
   "metadata": {},
   "source": [
    "How is the relationship between line capital costs and line length?"
   ]
  },
  {
   "cell_type": "code",
   "execution_count": null,
   "metadata": {},
   "outputs": [],
   "source": [
    "#################### Figure\n",
    "fig_size = [10,4]\n",
    "fig, ax = plt.subplots(figsize=fig_size)\n",
    "\n",
    "\n",
    "ln.plot(ax=ax, kind='scatter', x='length', y='capital_cost')\n",
    "\n",
    "ax.set_xlabel('km')\n",
    "ax.set_ylabel('EUR/MW')\n",
    "ax.grid(True, linestyle='--', alpha=0.5)\n",
    "\n",
    "\n",
    "ratio = ln['capital_cost']/ln['length']\n",
    "\n",
    "print(f'The ratio values of capital cost vs. length  are {ratio.round(2).unique()} EUR/(MW·km)')"
   ]
  },
  {
   "cell_type": "markdown",
   "metadata": {},
   "source": [
    "### Variable: `n.links`"
   ]
  },
  {
   "cell_type": "markdown",
   "metadata": {},
   "source": [
    "Place `n.links` in a dataFrame and show its content."
   ]
  },
  {
   "cell_type": "code",
   "execution_count": null,
   "metadata": {},
   "outputs": [],
   "source": [
    "lk = n.links\n",
    "\n",
    "lk.head()"
   ]
  },
  {
   "cell_type": "markdown",
   "metadata": {},
   "source": [
    "Place DC links in a dataFrame and show its content."
   ]
  },
  {
   "cell_type": "code",
   "execution_count": null,
   "metadata": {},
   "outputs": [],
   "source": [
    "lk_DC = lk.loc[lk['carrier']=='DC']\n",
    "\n",
    "lk_DC.head()"
   ]
  },
  {
   "cell_type": "markdown",
   "metadata": {},
   "source": [
    "How is the distribution of DC link lengths?"
   ]
  },
  {
   "cell_type": "code",
   "execution_count": null,
   "metadata": {},
   "outputs": [],
   "source": [
    "#################### Parameters\n",
    "bins = 50\n",
    "\n",
    "\n",
    "\n",
    "#################### Figure\n",
    "fig_size = [10,4]\n",
    "fig, ax = plt.subplots(figsize=fig_size)\n",
    "\n",
    "\n",
    "ax.hist(lk_DC['length'], bins=bins, edgecolor='black')\n",
    "\n",
    "ax.set_xlabel('km')\n",
    "ax.grid(True, linestyle='--', alpha=0.5)"
   ]
  },
  {
   "cell_type": "markdown",
   "metadata": {},
   "source": [
    "How is the relationship between DC link capital costs and link length?"
   ]
  },
  {
   "cell_type": "code",
   "execution_count": null,
   "metadata": {},
   "outputs": [],
   "source": [
    "#################### Figure\n",
    "fig_size = [10,4]\n",
    "fig, ax = plt.subplots(figsize=fig_size)\n",
    "\n",
    "\n",
    "lk_DC.plot(ax=ax, kind='scatter', x='length', y='capital_cost')\n",
    "\n",
    "ax.set_xlabel('km')\n",
    "ax.set_ylabel('EUR')\n",
    "ax.grid(True, linestyle='--', alpha=0.5)\n",
    "\n",
    "\n",
    "ratio = lk_DC['capital_cost']/lk_DC['length']\n",
    "\n",
    "print(f'The ratio values of capital cost vs. length  are {ratio.round(2).unique()} EUR/km')"
   ]
  },
  {
   "cell_type": "markdown",
   "metadata": {},
   "source": [
    "**NOTE**: Links represent different elements in the network. \n",
    " For example, for CCGT technology, the link represents the conversion from gas to electricity, and the associated capacity refers to the input node. However, in general we are interested in the CCGT capacity related to the electrical power output (output node).\n",
    " For this reason, the capacity associated to the link needs to be multiplied by the efficiency for `CCGT`, `OCGT`, `H2 Fuel Cell` and `battery discharger` to properly the reflect output power.\n",
    "\n",
    "In the following, **\"_e\"** is added to express \"electric\" (power output, the efficiency is included)."
   ]
  },
  {
   "cell_type": "markdown",
   "metadata": {},
   "source": [
    "#### Maps"
   ]
  },
  {
   "cell_type": "markdown",
   "metadata": {},
   "source": [
    "Plot a map showing a particular feature of a link carrier at each region.\n",
    "\n",
    "Then, show another map with the same information aggregated to a certain NUTS level (weighted with ovelap area)."
   ]
  },
  {
   "cell_type": "code",
   "execution_count": null,
   "metadata": {},
   "outputs": [],
   "source": [
    "#################### Parameters\n",
    "\n",
    "### Select carrier (uncomment one of the following)\n",
    "carrier = 'CCGT'\n",
    "# carrier = 'OCGT'\n",
    "# carrier = 'H2 Electrolysis'\n",
    "# carrier = 'H2 Fuel Cell'\n",
    "# carrier = 'battery charger'\n",
    "# carrier = 'battery discharger'\n",
    "\n",
    "### Select feature (uncomment one of the following):\n",
    "# feature = 'area' \n",
    "# feature = 'p_nom_e'\n",
    "feature = 'p_nom_e_opt'\n",
    "\n",
    "\n",
    "\n",
    "#################### Local params\n",
    "params_local = {}\n",
    "params_local['vmin'] = ''   # Leave empty for automatic value \n",
    "params_local['vmax'] = ''   # Leave empty for automatic value\n",
    "\n",
    "\n",
    "\n",
    "#################### Figure\n",
    "fig_size = [12,6]\n",
    "crs = ccrs.PlateCarree()\n",
    "\n",
    "fig, ax = plt.subplots(figsize=fig_size, subplot_kw={'projection': crs})\n",
    "\n",
    "\n",
    "### Add map features\n",
    "xp.map_add_features(ax, params['map_add_features'])\n",
    "\n",
    "### Add network feature at regions\n",
    "xp.map_network_links(carrier, n, feature, ax, gdf_regions_onshore, params['map_network_links'], params_local)"
   ]
  },
  {
   "cell_type": "code",
   "execution_count": null,
   "metadata": {},
   "outputs": [],
   "source": [
    "#################### Parameters\n",
    "\n",
    "### Select NUTS level\n",
    "NUTS_level = 3\n",
    "\n",
    "\n",
    "\n",
    "#################### Local params\n",
    "params_local = {}\n",
    "params_local['vmin'] = ''   # Leave empty for automatic value \n",
    "params_local['vmax'] = ''   # Leave empty for automatic value\n",
    "\n",
    "\n",
    "\n",
    "#################### Figure\n",
    "fig_size = [12,6]\n",
    "crs = ccrs.PlateCarree()\n",
    "\n",
    "fig, ax = plt.subplots(figsize=fig_size, subplot_kw={'projection': crs})\n",
    "\n",
    "\n",
    "### Define NUTS file\n",
    "if NUTS_level==2:\n",
    "    gdf_NUTS = gdf_NUTS2\n",
    "if NUTS_level==3:\n",
    "    gdf_NUTS = gdf_NUTS3    \n",
    "\n",
    "\n",
    "### Add map features\n",
    "xp.map_add_features(ax, params['map_add_features'])\n",
    "\n",
    "### Add network feature aggregated at NUTS regions\n",
    "xp.map_NUTS_links(carrier, n, f'{feature}_NUTS', ax, gdf_regions_onshore, gdf_NUTS, params['map_NUTS_links'], params_local)"
   ]
  },
  {
   "cell_type": "markdown",
   "metadata": {},
   "source": [
    "### Variable: `n.stores`"
   ]
  },
  {
   "cell_type": "markdown",
   "metadata": {},
   "source": [
    "Place `n.stores` in a dataFrame and show its content."
   ]
  },
  {
   "cell_type": "code",
   "execution_count": null,
   "metadata": {},
   "outputs": [],
   "source": [
    "st = n.stores\n",
    "\n",
    "st.head()"
   ]
  },
  {
   "cell_type": "markdown",
   "metadata": {},
   "source": [
    "#### Maps"
   ]
  },
  {
   "cell_type": "markdown",
   "metadata": {},
   "source": [
    "Plot a map showing a particular feature of a store carrier at each region.\n",
    "\n",
    "Then, show another map with the same information aggregated to a certain NUTS level (weighted with ovelap area)."
   ]
  },
  {
   "cell_type": "code",
   "execution_count": null,
   "metadata": {},
   "outputs": [],
   "source": [
    "#################### Parameters\n",
    "\n",
    "### Select carrier (uncomment one of the following):\n",
    "carrier = 'battery'\n",
    "# carrier = 'H2 Store'\n",
    "\n",
    "### Select feature (uncomment one of the following):\n",
    "feature = 'e_nom_opt'\n",
    "\n",
    "\n",
    "\n",
    "#################### Local params\n",
    "params_local = {}\n",
    "params_local['vmin'] = ''   # Leave empty for automatic value \n",
    "params_local['vmax'] = ''   # Leave empty for automatic value\n",
    "\n",
    "\n",
    "\n",
    "#################### Figure\n",
    "fig_size = [12,6]\n",
    "crs = ccrs.PlateCarree()\n",
    "\n",
    "fig, ax = plt.subplots(figsize=fig_size, subplot_kw={'projection': crs})\n",
    "\n",
    "\n",
    "### Add map features\n",
    "xp.map_add_features(ax, params['map_add_features'])\n",
    "\n",
    "### Add network feature at regions\n",
    "xp.map_network_stores(carrier, n, feature, ax, gdf_regions_onshore, params['map_network_stores'], params_local)"
   ]
  },
  {
   "cell_type": "code",
   "execution_count": null,
   "metadata": {},
   "outputs": [],
   "source": [
    "#################### Parameters\n",
    "\n",
    "### Select NUTS level\n",
    "NUTS_level = 3\n",
    "\n",
    "\n",
    "\n",
    "#################### Local params\n",
    "params_local = {}\n",
    "params_local['vmin'] = ''   # Leave empty for automatic value \n",
    "params_local['vmax'] = ''   # Leave empty for automatic value\n",
    "\n",
    "\n",
    "\n",
    "#################### Figure\n",
    "fig_size = [12,6]\n",
    "crs = ccrs.PlateCarree()\n",
    "\n",
    "fig, ax = plt.subplots(figsize=fig_size, subplot_kw={'projection': crs})\n",
    "\n",
    "\n",
    "### Define NUTS file\n",
    "if NUTS_level==2:\n",
    "    gdf_NUTS = gdf_NUTS2\n",
    "if NUTS_level==3:\n",
    "    gdf_NUTS = gdf_NUTS3    \n",
    "\n",
    "\n",
    "### Add regions\n",
    "xp.map_add_region(ax, gdf_regions_onshore, params['map_add_region'], is_offshore=is_offshore)\n",
    "\n",
    "### Add map features\n",
    "xp.map_add_features(ax, params['map_add_features'])\n",
    "\n",
    "### Add network feature aggregated at NUTS regions\n",
    "xp.map_NUTS_stores(carrier, n, f'{feature}_NUTS', ax, gdf_regions_onshore, gdf_NUTS, params['map_NUTS_stores'], params_local)"
   ]
  },
  {
   "cell_type": "markdown",
   "metadata": {},
   "source": [
    "### Variable: `n.storage_units`"
   ]
  },
  {
   "cell_type": "markdown",
   "metadata": {},
   "source": [
    "Place `n.storage_units` in a dataFrame and show its content."
   ]
  },
  {
   "cell_type": "code",
   "execution_count": null,
   "metadata": {},
   "outputs": [],
   "source": [
    "su = n.storage_units\n",
    "\n",
    "su.head()"
   ]
  },
  {
   "cell_type": "markdown",
   "metadata": {},
   "source": [
    "#### Summary"
   ]
  },
  {
   "cell_type": "markdown",
   "metadata": {},
   "source": [
    "What is the aggregated capacity per carrier? \n",
    "\n",
    "How many buses have storage units for each carrier? How many of them have zero capacity?"
   ]
  },
  {
   "cell_type": "code",
   "execution_count": null,
   "metadata": {},
   "outputs": [],
   "source": [
    "su.groupby('carrier').agg(\n",
    "    Total_capacity=pd.NamedAgg(column='p_nom', aggfunc='sum'),\n",
    "    Buses=pd.NamedAgg(column='p_nom', aggfunc='size'),\n",
    "    Buses_zero_capacity=pd.NamedAgg(column='p_nom', aggfunc=lambda x: (x == 0).sum()),\n",
    "    Buses_non_zero_capacity=pd.NamedAgg(column='p_nom', aggfunc=lambda x: (x != 0).sum()),\n",
    ")"
   ]
  },
  {
   "cell_type": "markdown",
   "metadata": {},
   "source": [
    "#### Maps"
   ]
  },
  {
   "cell_type": "markdown",
   "metadata": {},
   "source": [
    "Plot a map showing a particular feature of a storage unit carrier at each region.\n",
    "\n",
    "Then, show another map with the same information aggregated to a certain NUTS level (weighted with ovelap area)."
   ]
  },
  {
   "cell_type": "code",
   "execution_count": null,
   "metadata": {},
   "outputs": [],
   "source": [
    "#################### Parameters\n",
    "\n",
    "### Select carrier\n",
    "carrier = 'PHS'\n",
    "\n",
    "### Select feature (uncomment one of the following):\n",
    "# feature = 'area' \n",
    "# feature = 'p_nom'\n",
    "# feature = 'p_nom_density'\n",
    "feature = 'max_hours'\n",
    "\n",
    "\n",
    "\n",
    "#################### Local params\n",
    "params_local = {}\n",
    "params_local['vmin'] = ''   # Leave empty for automatic value \n",
    "params_local['vmax'] = ''   # Leave empty for automatic value\n",
    "\n",
    "\n",
    "\n",
    "#################### Figure\n",
    "fig_size = [12,6]\n",
    "crs = ccrs.PlateCarree()\n",
    "\n",
    "fig, ax = plt.subplots(figsize=fig_size, subplot_kw={'projection': crs})\n",
    "\n",
    "\n",
    "### Add map features\n",
    "xp.map_add_features(ax, params['map_add_features'])\n",
    "\n",
    "### Add network feature at regions\n",
    "xp.map_network_storage_units(carrier, n, feature, ax, gdf_regions_onshore, params['map_network_storage_units'], params_local)"
   ]
  },
  {
   "cell_type": "code",
   "execution_count": null,
   "metadata": {},
   "outputs": [],
   "source": [
    "#################### Parameters\n",
    "\n",
    "### Select NUTS level\n",
    "NUTS_level = 2\n",
    "\n",
    "\n",
    "\n",
    "#################### Local params\n",
    "params_local = {}\n",
    "params_local['vmin'] = ''   # Leave empty for automatic value \n",
    "params_local['vmax'] = ''   # Leave empty for automatic value\n",
    "\n",
    "\n",
    "\n",
    "#################### Figure\n",
    "fig_size = [12,6]\n",
    "crs = ccrs.PlateCarree()\n",
    "\n",
    "fig, ax = plt.subplots(figsize=fig_size, subplot_kw={'projection': crs})\n",
    "\n",
    "\n",
    "### Define NUTS file\n",
    "if NUTS_level==2:\n",
    "    gdf_NUTS = gdf_NUTS2\n",
    "if NUTS_level==3:\n",
    "    gdf_NUTS = gdf_NUTS3    \n",
    "\n",
    "\n",
    "### Add map features\n",
    "xp.map_add_features(ax, params['map_add_features'])\n",
    "\n",
    "### Add network feature aggregated at NUTS regions\n",
    "xp.map_NUTS_storage_units(carrier, n, f'{feature}_NUTS', ax, gdf_regions, gdf_NUTS, params['map_NUTS_storage_units'], params_local)"
   ]
  },
  {
   "cell_type": "markdown",
   "metadata": {},
   "source": [
    "#### Maximum hours"
   ]
  },
  {
   "cell_type": "markdown",
   "metadata": {},
   "source": [
    "What is the relation between installed capacity and max. hours, for each carrier?"
   ]
  },
  {
   "cell_type": "code",
   "execution_count": null,
   "metadata": {},
   "outputs": [],
   "source": [
    "#################### Figure\n",
    "fig_size = [8,4]\n",
    "fig, ax = plt.subplots(figsize=fig_size)\n",
    "\n",
    "tech_colors = n.carriers['color']\n",
    "\n",
    "for carrier, group in su.groupby('carrier'):\n",
    "    ax.scatter(group['p_nom'], group['max_hours'], label=carrier, color=tech_colors[carrier], alpha=0.7)\n",
    "\n",
    "ax.set_xlabel('Installed capacity [MW]')\n",
    "ax.set_ylabel('Max. hours')\n",
    "ax.set_title('Storage units')\n",
    "ax.grid(True, linestyle='--', alpha=0.5)\n",
    "ax.legend()"
   ]
  },
  {
   "cell_type": "markdown",
   "metadata": {},
   "source": [
    "### Analysis: Capacity expansion"
   ]
  },
  {
   "cell_type": "markdown",
   "metadata": {},
   "source": [
    "Make a summary of initial and optimal capacities.\n",
    "\n",
    "**Note:** Capacity associated to links `CCGT`, `OCGT`, `H2 Fuel Cell` and `battery discharger` have been multiplied by efficiencies to consider output power."
   ]
  },
  {
   "cell_type": "code",
   "execution_count": null,
   "metadata": {},
   "outputs": [],
   "source": [
    "#################### Get summary\n",
    "\n",
    "df_capacities = xp.df_network_capacities(n)\n",
    "\n",
    "df_capacities"
   ]
  },
  {
   "cell_type": "markdown",
   "metadata": {},
   "source": [
    "Plot for a selection of carriers."
   ]
  },
  {
   "cell_type": "code",
   "execution_count": null,
   "metadata": {},
   "outputs": [],
   "source": [
    "#################### Parameters\n",
    "carrier_list = ['solar', 'onwind', 'offwind-float', 'CCGT', 'DC', 'battery charger' ]\n",
    "\n",
    "\n",
    "#################### Figure\n",
    "fig_size = [10,6]\n",
    "\n",
    "fig, ax = plt.subplots(figsize=fig_size)\n",
    "\n",
    "df_capacities.loc[carrier_list].plot(kind='bar',rot=45, ax=ax)\n",
    "\n",
    "ax.grid(True, linestyle='--', linewidth=0.5, color='black', alpha=0.25)"
   ]
  },
  {
   "cell_type": "markdown",
   "metadata": {},
   "source": [
    "### Analysis: Grid expansion"
   ]
  },
  {
   "cell_type": "markdown",
   "metadata": {},
   "source": [
    "If enabled, optimation includes grid expansion for lines and links.\n",
    "\n",
    "Where was grid expansion required?"
   ]
  },
  {
   "cell_type": "markdown",
   "metadata": {},
   "source": [
    "Plot the network showing the increase of line capacities (if any)."
   ]
  },
  {
   "cell_type": "code",
   "execution_count": null,
   "metadata": {},
   "outputs": [],
   "source": [
    "#################### Parameters\n",
    "line_widths = 1*(n.lines.s_nom_opt-n.lines.s_nom) / 1e3\n",
    "link_widths = 1*(n.links.p_nom_opt-n.links.p_nom) / 1e3\n",
    "\n",
    "\n",
    "\n",
    "#################### Figure\n",
    "fig_size = [12,12]\n",
    "crs = ccrs.PlateCarree()\n",
    "\n",
    "fig, ax = plt.subplots(figsize=fig_size, subplot_kw={'projection': crs})\n",
    "\n",
    "\n",
    "### Add network\n",
    "n.plot(ax=ax, \n",
    "       line_widths=line_widths, \n",
    "       link_widths=link_widths, \n",
    "       bus_sizes=params['bus_sizes'], \n",
    "       bus_colors=params['bus_colors'], \n",
    "       boundaries=params['boundaries_offshore'])\n",
    "\n",
    "### Add regions_onshore\n",
    "xp.map_add_region(ax, gdf_regions_onshore, params['map_add_region'])\n",
    "\n",
    "### Add regions_offshore\n",
    "xp.map_add_region(ax, gdf_regions_offshore, params['map_add_region'], is_offshore=True)\n",
    "\n",
    "### Add map features\n",
    "xp.map_add_features(ax, params['map_add_features'])"
   ]
  },
  {
   "cell_type": "markdown",
   "metadata": {},
   "source": [
    "### Analysis: Grid congestion"
   ]
  },
  {
   "cell_type": "markdown",
   "metadata": {},
   "source": [
    "Where are the bottlenecks in the grid from the optimal dispatch?"
   ]
  },
  {
   "cell_type": "markdown",
   "metadata": {},
   "source": [
    "Plot the network showing the level of congestion."
   ]
  },
  {
   "cell_type": "code",
   "execution_count": null,
   "metadata": {},
   "outputs": [],
   "source": [
    "#################### Parameters\n",
    "\n",
    "### Select criterion\n",
    "# cong_criterion = ('mean', 'na')\n",
    "cong_criterion = ('quantile', 0.9)\n",
    "\n",
    "### Define line and link widths\n",
    "line_widths = 1*(n.lines.s_nom_opt) / 1e3\n",
    "link_widths = 0*(n.links.p_nom_opt) / 1e3\n",
    "link_widths.loc[n.links.index.str.contains('ic')] = 1 * n.links.loc[n.links.index.str.contains('ic'), 'p_nom_opt'] / 1e3\n",
    "link_widths.loc[n.links.index.str.contains('relation')] = 1 * n.links.loc[n.links.index.str.contains('relation'), 'p_nom_opt'] / 1e3\n",
    "\n",
    "\n",
    "\n",
    "#################### This is a patch for considering ES interconnections\n",
    "\n",
    "lnt_p0 = n.lines_t['p0']\n",
    "lkt_p0 = n.links_t['p0']\n",
    "\n",
    "\n",
    "# for interconnections\n",
    "for interconnection in ['FR0', 'FR1', 'PT0', 'PT1']:\n",
    "    try:\n",
    "        join_power = lkt_p0[f'ES {interconnection} ic'] - lkt_p0[f'ES {interconnection} ic-reversed']\n",
    "        lkt_p0[f'ES {interconnection} ic'] = join_power\n",
    "        lkt_p0[f'ES {interconnection} ic-reversed'] = join_power\n",
    "    except KeyError:\n",
    "        join_power = 0\n",
    "        \n",
    "    \n",
    "\n",
    "# for link with Balearic islands\n",
    "for interconnection in n.links.loc[n.links.index.str.contains('relation')].index:\n",
    "    if 'reversed' not in interconnection:\n",
    "        try:\n",
    "            join_power = lkt_p0[interconnection] - lkt_p0[f'{interconnection}-reversed']\n",
    "            lkt_p0[interconnection] = join_power\n",
    "            lkt_p0[f'{interconnection}-reversed'] = join_power\n",
    "        except KeyError:\n",
    "            join_power = 0\n",
    "\n",
    "\n",
    "\n",
    "\n",
    "#################### Get the line_colors\n",
    "\n",
    "if cong_criterion[0] == 'mean':\n",
    "    ln_result_criterion = lnt_p0.abs().mean() / n.lines['s_nom']\n",
    "    lk_result_criterion = lkt_p0.abs().mean() / n.links['p_nom']\n",
    "    title_cb = 'Mean of line CF'\n",
    "if cong_criterion[0] == 'quantile':\n",
    "    ln_result_criterion = lnt_p0.abs().quantile(cong_criterion[1]) / n.lines['s_nom']\n",
    "    lk_result_criterion = lkt_p0.abs().quantile(cong_criterion[1]) / n.links['p_nom']\n",
    "    title_cb = f'Q{cong_criterion[1]} of line CF'\n",
    "\n",
    "norm = mcolors.Normalize(vmin=0, vmax=0.7)\n",
    "cmap = plt.cm.rainbow  # You can choose any colormap you like\n",
    "\n",
    "ln_colors = [cmap(norm(p)) for p in ln_result_criterion]\n",
    "lk_colors = [cmap(norm(p)) for p in lk_result_criterion]\n",
    "\n",
    "\n",
    "\n",
    "#################### Figure\n",
    "fig_size = [12,12]\n",
    "crs = ccrs.PlateCarree()\n",
    "\n",
    "fig, ax = plt.subplots(figsize=fig_size, subplot_kw={'projection': crs})\n",
    "\n",
    "\n",
    "### Add network\n",
    "n.plot(ax=ax, \n",
    "       line_widths=line_widths, \n",
    "       link_widths=link_widths, \n",
    "       line_colors=ln_colors, \n",
    "       link_colors=lk_colors,\n",
    "       bus_sizes=params['bus_sizes'], \n",
    "       bus_colors=params['bus_colors'], \n",
    "       boundaries=params['boundaries_offshore']\n",
    "       )\n",
    "\n",
    "\n",
    "# Create a ScalarMappable for the colorbar\n",
    "sm = plt.cm.ScalarMappable(cmap=cmap, norm=norm)\n",
    "sm.set_array([])  # Required for compatibility with colorbar creation\n",
    "# Add the colorbar to the figure\n",
    "cbar = fig.colorbar(sm, ax=ax, orientation='vertical', shrink=0.55, pad=0.02)\n",
    "cbar.set_label(title_cb, fontsize=12)\n",
    "\n",
    "\n",
    "### Add regions_onshore\n",
    "xp.map_add_region(ax, gdf_regions_onshore, params['map_add_region'])\n",
    "\n",
    "### Add map features\n",
    "xp.map_add_features(ax, params['map_add_features'])\n",
    "\n",
    "\n"
   ]
  }
 ],
 "metadata": {
  "kernelspec": {
   "display_name": "pypsa-eur",
   "language": "python",
   "name": "python3"
  },
  "language_info": {
   "codemirror_mode": {
    "name": "ipython",
    "version": 3
   },
   "file_extension": ".py",
   "mimetype": "text/x-python",
   "name": "python",
   "nbconvert_exporter": "python",
   "pygments_lexer": "ipython3",
   "version": "3.12.9"
  }
 },
 "nbformat": 4,
 "nbformat_minor": 2
}
