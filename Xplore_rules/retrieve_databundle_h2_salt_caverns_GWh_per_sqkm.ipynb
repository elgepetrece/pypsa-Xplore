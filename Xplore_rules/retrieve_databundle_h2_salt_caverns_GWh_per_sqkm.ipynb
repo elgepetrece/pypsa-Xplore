{
 "cells": [
  {
   "cell_type": "markdown",
   "metadata": {},
   "source": [
    "# Rule: **retrieve_databundle**"
   ]
  },
  {
   "cell_type": "markdown",
   "metadata": {},
   "source": [
    "**Outputs (selection)**\n",
    "- data/bundle/`h2_salt_caverns_GWh_per_sqkm.geojson`\n",
    "\n",
    "\n"
   ]
  },
  {
   "cell_type": "code",
   "execution_count": null,
   "metadata": {},
   "outputs": [],
   "source": [
    "######################################## Parameters \n",
    "\n",
    "### Run\n",
    "name = ''\n",
    "prefix = ''"
   ]
  },
  {
   "cell_type": "code",
   "execution_count": null,
   "metadata": {},
   "outputs": [],
   "source": [
    "##### Import packages\n",
    "import geopandas as gpd\n",
    "import yaml\n",
    "import cartopy.crs as ccrs\n",
    "import cartopy.feature as cfeature\n",
    "import matplotlib.pyplot as plt \n",
    "import matplotlib\n",
    "import sys\n",
    "import os \n",
    "\n",
    "\n",
    "##### Import local functions\n",
    "sys.path.append(os.path.abspath(os.path.join('..')))\n",
    "import functions as xp\n",
    "\n",
    "\n",
    "##### Read params.yaml\n",
    "with open('../params.yaml', 'r') as configfile:\n",
    "    params = yaml.safe_load(configfile)\n",
    "\n",
    "\n",
    "##### Ignore warnings\n",
    "import warnings\n",
    "warnings.filterwarnings('ignore', category=UserWarning)\n",
    "\n",
    "\n",
    "##### Region files\n",
    "file_NUTS0 = f'NUTS_RG_01M_2021_4326_LEVL_0.geojson'\n",
    "path_NUTS0 = f'{params['rootpath']}/data/nuts/{prefix}/{name}/'\n",
    "NUTS0 = gpd.read_file(path_NUTS0+file_NUTS0)"
   ]
  },
  {
   "cell_type": "markdown",
   "metadata": {},
   "source": [
    "## `h2_salt_caverns_GWh_per_sqkm.geojson`"
   ]
  },
  {
   "cell_type": "markdown",
   "metadata": {},
   "source": [
    "Load the file and show its components."
   ]
  },
  {
   "cell_type": "code",
   "execution_count": null,
   "metadata": {},
   "outputs": [],
   "source": [
    "file = f'h2_salt_caverns_GWh_per_sqkm.geojson'\n",
    "path = f'{params['rootpath']}/data/bundle/{prefix}/{name}/'\n",
    "\n",
    "h2_salt_caverns = gpd.read_file(path+file)\n",
    "\n",
    "h2_salt_caverns.head()"
   ]
  },
  {
   "cell_type": "markdown",
   "metadata": {},
   "source": [
    "How many entries are there in the file?"
   ]
  },
  {
   "cell_type": "code",
   "execution_count": null,
   "metadata": {},
   "outputs": [],
   "source": [
    "len(h2_salt_caverns)"
   ]
  },
  {
   "cell_type": "markdown",
   "metadata": {},
   "source": [
    "Plot a map showing the **energy density**."
   ]
  },
  {
   "cell_type": "code",
   "execution_count": null,
   "metadata": {},
   "outputs": [],
   "source": [
    "fig_size = [12,12]\n",
    "crs = ccrs.PlateCarree()\n",
    "fig, ax = plt.subplots(figsize=fig_size, subplot_kw={'projection': crs})\n",
    "\n",
    "\n",
    "#fig, ax= plt.subplots(figsize=(9,7))\n",
    "custom_colors = matplotlib.colors.ListedColormap([\"#4a3b8e\", \"#7ab595\", \"#e3f68d\", \"#efdc80\", \"#c75f3c\", \"#730d35\"])\n",
    "#NUTS0.plot(ax=ax, color=\"grey\", edgecolor=\"grey\", linewidth=0.4, alpha=0.4)\n",
    "h2_salt_caverns.plot(ax=ax, column=\"val_kwhm3\", \n",
    "                     legend=True, \n",
    "                     categorical=True, \n",
    "                     cmap=custom_colors,\n",
    "                     legend_kwds={\"frameon\":False, \"bbox_to_anchor\":(1.22, 0.7), \"title\":\"Energy Density\\n[kWh/m³]\"})\n",
    "#We limit the map to the h2 cavern map extent \n",
    "lim_h2=h2_salt_caverns.total_bounds\n",
    "buffer=1.7\n",
    "ax.set_xlim(lim_h2[0]-buffer,lim_h2[2]+buffer)\n",
    "ax.set_ylim(lim_h2[1]-buffer, lim_h2[3]+buffer)\n",
    "ax.set_ylabel(\"Latitude\")\n",
    "ax.set_xlabel(\"Longitude\")\n",
    "\n",
    "### Add map features\n",
    "xp.map_add_features(ax, params['map_add_features'])"
   ]
  },
  {
   "cell_type": "markdown",
   "metadata": {},
   "source": [
    "Particularized for Spain"
   ]
  },
  {
   "cell_type": "code",
   "execution_count": null,
   "metadata": {},
   "outputs": [],
   "source": [
    "fig, ax= plt.subplots(figsize=(7,7))\n",
    "NUTS0.plot(ax=ax, color=\"grey\", edgecolor=\"grey\", linewidth=0.4, alpha=0.4)\n",
    "h2_salt_caverns.plot(ax=ax, column=\"val_kwhm3\", linewidth=0.05,edgecolor=\"black\",\n",
    "                      legend=True, categorical=True, cmap=custom_colors,\n",
    "                        legend_kwds={\"frameon\":False, \"bbox_to_anchor\":(1.25, 0.7), \"title\":\"Energy Density\\n[kWh/m³]\"})\n",
    "#We limit the map to Spain Bounds\n",
    "ax.set_xlim(-10,4.5)\n",
    "ax.set_ylim(35, 44.5)\n",
    "ax.set_ylabel(\"Latitude\")\n",
    "ax.set_xlabel(\"Longitude\")"
   ]
  },
  {
   "cell_type": "markdown",
   "metadata": {},
   "source": [
    "Plot a map showing the **capacity per area**."
   ]
  },
  {
   "cell_type": "code",
   "execution_count": null,
   "metadata": {},
   "outputs": [],
   "source": [
    "fig, ax= plt.subplots(figsize=(9,7))\n",
    "NUTS0.plot(ax=ax, color=\"grey\", edgecolor=\"grey\", linewidth=0.4, alpha=0.4)\n",
    "h2_salt_caverns.plot(ax=ax, column=\"capacity_per_area\", linewidth=0.05,edgecolor=\"black\", legend=True)\n",
    "#We limit the map to the h2 cavern map extent \n",
    "lim_h2=h2_salt_caverns.total_bounds\n",
    "buffer=1.7\n",
    "ax.set_xlim(lim_h2[0]-buffer,lim_h2[2]+buffer)\n",
    "ax.set_ylim(lim_h2[1]-buffer, lim_h2[3]+buffer)\n",
    "ax.set_ylabel(\"Latitude\")\n",
    "ax.set_xlabel(\"Longitude\")\n",
    "ax.set_title(\"Capacity per area\")"
   ]
  },
  {
   "cell_type": "markdown",
   "metadata": {},
   "source": [
    "Particularized for Spain"
   ]
  },
  {
   "cell_type": "code",
   "execution_count": null,
   "metadata": {},
   "outputs": [],
   "source": [
    "fig, ax= plt.subplots(figsize=(7,7))\n",
    "NUTS0.plot(ax=ax, color=\"grey\", edgecolor=\"grey\", linewidth=0.4, alpha=0.4)\n",
    "h2_salt_caverns.plot(ax=ax, column=\"capacity_per_area\", linewidth=0.05,edgecolor=\"black\", legend=True)\n",
    "#We limit the map to Spain Bounds\n",
    "ax.set_xlim(-10,4.5)\n",
    "ax.set_ylim(35, 44.5)\n",
    "ax.set_ylabel(\"Latitude\")\n",
    "ax.set_xlabel(\"Longitude\")\n",
    "ax.set_title(\"Capacity per area\")"
   ]
  }
 ],
 "metadata": {
  "kernelspec": {
   "display_name": "pypsa-eur",
   "language": "python",
   "name": "python3"
  },
  "language_info": {
   "codemirror_mode": {
    "name": "ipython",
    "version": 3
   },
   "file_extension": ".py",
   "mimetype": "text/x-python",
   "name": "python",
   "nbconvert_exporter": "python",
   "pygments_lexer": "ipython3",
   "version": "3.12.9"
  }
 },
 "nbformat": 4,
 "nbformat_minor": 2
}
